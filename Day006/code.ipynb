{
 "cells": [
  {
   "attachments": {},
   "cell_type": "markdown",
   "metadata": {},
   "source": [
    "##### Q1. What are the characteristics of the tuples? Is tuple immutable?\n",
    "\n",
    "* Tuple are collection of storage containers for different/similar data types. They are immutable, ordered and allow duplicate elements.\n",
    "* Yes, Tuples are Immutable."
   ]
  },
  {
   "attachments": {},
   "cell_type": "markdown",
   "metadata": {},
   "source": [
    "##### Q2. What are the two tuple methods in python? Give an example of each method. Give a reason why tuples have only two in-built methods as compared to lists.\n",
    "\n",
    "* Two Tuple methods are.\n",
    "    * count()\tReturns the number of times a specified value occurs in a tuple\n",
    "    \n",
    "    * index()\tSearches the tuple for a specified value and returns the position of where it was found\n",
    "\n",
    "    * ex: in below code cell\n",
    "\n",
    "* Tuples are immutable hence, most of the methods such as append(), extend(), insert() etc are meaningless.\n"
   ]
  },
  {
   "cell_type": "code",
   "execution_count": 4,
   "metadata": {},
   "outputs": [
    {
     "name": "stdout",
     "output_type": "stream",
     "text": [
      "1\n",
      "4\n"
     ]
    }
   ],
   "source": [
    "## Q2 Example\n",
    "\n",
    "tup1 = (1,2,3,4,5,6)\n",
    "\n",
    "# Returns the count of elements passed as parameter for the tuple.\n",
    "print(tup1.count(2))\n",
    "\n",
    "# Returns the inndex of element passed as parameter for the tuple.\n",
    "print(tup1.index(5))"
   ]
  },
  {
   "attachments": {},
   "cell_type": "markdown",
   "metadata": {},
   "source": [
    "##### Q3.  Which collection datatypes in python do not allow duplicate items? Write a code using a set to remove duplicates from the given list. \n",
    "\n",
    "List = [1, 1, 1, 2, 1, 3, 1, 4, 2, 1, 2, 2, 2, 3, 2, 4, 3, 1, 3, 2, 3, 3, 3, 4, 4, 1, 4, 2, 4, 3, 4, 4]\n",
    "\n",
    "* \"Sets\" don't allow duplicate items in python."
   ]
  },
  {
   "cell_type": "code",
   "execution_count": 5,
   "metadata": {},
   "outputs": [
    {
     "name": "stdout",
     "output_type": "stream",
     "text": [
      "{1, 2, 3, 4}\n"
     ]
    }
   ],
   "source": [
    "## Q3 Code\n",
    "\n",
    "List = [1, 1, 1, 2, 1, 3, 1, 4, 2, 1, 2, 2, 2, 3, 2, 4, 3, 1, 3, 2, 3, 3, 3, 4, 4, 1, 4, 2, 4, 3, 4, 4]\n",
    "\n",
    "set1 = set(List)\n",
    "print(set1)"
   ]
  },
  {
   "attachments": {},
   "cell_type": "markdown",
   "metadata": {},
   "source": [
    "##### Q4. Explain the difference between the union() and update() methods for a set. Give an example of each method.\n",
    "\n",
    "* The difference in these two methods of set arises on how these methods use memory. union uses shallow copy where the set on which union is performed is unchanged. While, when update method is used it uses deep copy and the set on which it is performed is altered to result."
   ]
  },
  {
   "cell_type": "code",
   "execution_count": 9,
   "metadata": {},
   "outputs": [
    {
     "name": "stdout",
     "output_type": "stream",
     "text": [
      "{1, 2, 3}\n",
      "{1, 2, 3, 4, 5}\n"
     ]
    }
   ],
   "source": [
    "set1 = {1,2,3}\n",
    "set2 = {3,4,5}\n",
    "\n",
    "set1.union(set2)\n",
    "print(set1)\n",
    "\n",
    "set3 = {1,2,3}\n",
    "set4 = {3,4,5}\n",
    "\n",
    "set3.update(set4)\n",
    "print(set3)"
   ]
  },
  {
   "attachments": {},
   "cell_type": "markdown",
   "metadata": {},
   "source": [
    "##### Q5. What is a dictionary? Give an example. Also, state whether a dictionary is ordered or unordered.\n",
    "\n",
    "* Dictionary is a collection in python which stores datatypes in form of key value pairs. It is ordered, mutable. It allows keys which are hashable.\n",
    "\n",
    "* Example in code cell below.\n",
    "\n",
    "* Dictionaries are ordered"
   ]
  },
  {
   "cell_type": "code",
   "execution_count": 18,
   "metadata": {},
   "outputs": [
    {
     "name": "stdout",
     "output_type": "stream",
     "text": [
      "25\n",
      "None\n"
     ]
    }
   ],
   "source": [
    "dic1 = {\"name\":\"shubham\",\"age\":\"25\"}\n",
    "\n",
    "## Throws exception if key not present\n",
    "print(dic1[\"age\"])\n",
    "\n",
    "## Returns None if key not present\n",
    "print(dic1.get(\"agea\"))"
   ]
  },
  {
   "attachments": {},
   "cell_type": "markdown",
   "metadata": {},
   "source": [
    "##### Q6. Can we create a nested dictionary? If so, please give an example by creating a simple one-level \n",
    "\n",
    "* Yes we can create a nested dictionary.\n",
    "* Example below"
   ]
  },
  {
   "cell_type": "code",
   "execution_count": 20,
   "metadata": {},
   "outputs": [
    {
     "data": {
      "text/plain": [
       "'Walk Lane'"
      ]
     },
     "execution_count": 20,
     "metadata": {},
     "output_type": "execute_result"
    }
   ],
   "source": [
    "dic1 = {\"name\":\"Shubham\", \n",
    "        \"address\":{\n",
    "            \"firststreet\":\"Walk Lane\",\n",
    "            \"secondstreet\":\"Bike Lane\"}\n",
    "            }\n",
    "\n",
    "dic1.get(\"address\").get(\"firststreet\")"
   ]
  },
  {
   "attachments": {},
   "cell_type": "markdown",
   "metadata": {},
   "source": [
    "##### Q7. Using setdefault() method, create key named topics in the given dictionary and also add the value of the key as this list ['Python', 'Machine Learning’, 'Deep Learning']  dict1 = {'language' : 'Python', 'course': 'Data Science Masters'}\n",
    "\n",
    "* code example below"
   ]
  },
  {
   "cell_type": "code",
   "execution_count": 21,
   "metadata": {},
   "outputs": [
    {
     "data": {
      "text/plain": [
       "['Python', 'Machine Learning', 'Deep Learning']"
      ]
     },
     "execution_count": 21,
     "metadata": {},
     "output_type": "execute_result"
    }
   ],
   "source": [
    "# The setdefault() method returns the value of the item with the specified key.\n",
    "\n",
    "# If the key does not exist, insert the key, with the specified value, see example below\n",
    "\n",
    "dict1 = {'language' : 'Python', 'course': 'Data Science Masters'}\n",
    "dict1.setdefault('topics', ['Python', 'Machine Learning', 'Deep Learning'])"
   ]
  },
  {
   "attachments": {},
   "cell_type": "markdown",
   "metadata": {},
   "source": [
    "##### Q8 . What are the three view objects in dictionaries? Use the three in-built methods in python to display these three view objects for the given dictionary.  \n",
    "dict1 = {'Sport': 'Cricket' , 'Teams': ['India', 'Australia', 'England', 'South Africa', 'Sri Lanka', 'New  Zealand']}\n",
    "\n",
    "* Three View objects available in dictionaries are:\n",
    "    * keys()\n",
    "    * values()\n",
    "    * items()"
   ]
  },
  {
   "cell_type": "code",
   "execution_count": 25,
   "metadata": {},
   "outputs": [
    {
     "name": "stdout",
     "output_type": "stream",
     "text": [
      "dict_keys(['language', 'course'])\n",
      "<class 'dict_keys'>\n",
      "\n",
      "dict_values(['Python', 'Data Science Masters'])\n",
      "<class 'dict_values'>\n",
      "\n",
      "dict_items([('language', 'Python'), ('course', 'Data Science Masters')])\n",
      "<class 'dict_items'>\n"
     ]
    }
   ],
   "source": [
    "dict1 = {'language' : 'Python', 'course': 'Data Science Masters'}\n",
    "\n",
    "print(dict1.keys())\n",
    "print(type(dict1.keys()))\n",
    "print(\"\")\n",
    "print(dict1.values())\n",
    "print(type(dict1.values()))\n",
    "print(\"\")\n",
    "print(dict1.items())\n",
    "print(type(dict1.items()))\n"
   ]
  },
  {
   "cell_type": "code",
   "execution_count": null,
   "metadata": {},
   "outputs": [],
   "source": []
  }
 ],
 "metadata": {
  "kernelspec": {
   "display_name": "TorchEnv",
   "language": "python",
   "name": "python3"
  },
  "language_info": {
   "codemirror_mode": {
    "name": "ipython",
    "version": 3
   },
   "file_extension": ".py",
   "mimetype": "text/x-python",
   "name": "python",
   "nbconvert_exporter": "python",
   "pygments_lexer": "ipython3",
   "version": "3.9.12"
  },
  "orig_nbformat": 4,
  "vscode": {
   "interpreter": {
    "hash": "5190a61440cec77bceec7b8ea3530ec7ef9f651661115b61fd21260409f55629"
   }
  }
 },
 "nbformat": 4,
 "nbformat_minor": 2
}
