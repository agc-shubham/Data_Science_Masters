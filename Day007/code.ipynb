{
 "cells": [
  {
   "attachments": {},
   "cell_type": "markdown",
   "metadata": {},
   "source": [
    "##### Q1. Which keyword is used to create a function? Create a function to return a list of odd numbers in the range of 1 to 25.\n",
    "\n",
    "* `def` is used to create a function\n",
    "* example below"
   ]
  },
  {
   "cell_type": "code",
   "execution_count": 2,
   "metadata": {},
   "outputs": [
    {
     "name": "stdout",
     "output_type": "stream",
     "text": [
      "[1, 3, 5, 7, 9, 11, 13, 15, 17, 19, 21, 23, 25]\n"
     ]
    }
   ],
   "source": [
    "def odd_list() -> list:\n",
    "    lst = [i for i in range(1,26) if i%2 != 0]\n",
    "    return lst\n",
    "\n",
    "print(odd_list())\n",
    "    "
   ]
  },
  {
   "attachments": {},
   "cell_type": "markdown",
   "metadata": {},
   "source": [
    "##### Q2. Why *args and **kwargs is used in some functions? Create a function each for *args and **kwargs to demonstrate their use.\n",
    "\n",
    "* `*args` or `**kwargs` are used either when number of arguments to be passed to the function is unknown.  \n",
    "\n",
    "* `single *` arguments or non-keyword arguments is used to pass variable number of arguments to a function.\n",
    "* `double **` arguments or keyworded arguments is used to pass variable number of keyword arguments to a function.\n",
    "\n",
    "* code below"
   ]
  },
  {
   "cell_type": "code",
   "execution_count": 3,
   "metadata": {},
   "outputs": [
    {
     "name": "stdout",
     "output_type": "stream",
     "text": [
      "28\n",
      "45\n",
      "21\n"
     ]
    }
   ],
   "source": [
    "def sum_n_numbers(*nums)->int:\n",
    "    sum = 0\n",
    "    for num in nums:\n",
    "        sum += num\n",
    "    return sum\n",
    "\n",
    "print(sum_n_numbers(1,2,3,4,5,6,7))\n",
    "print(sum_n_numbers(1,2,3,4,5,6,7,8,9))\n",
    "print(sum_n_numbers(1,2,3,4,5,6))"
   ]
  },
  {
   "cell_type": "code",
   "execution_count": 10,
   "metadata": {},
   "outputs": [
    {
     "name": "stdout",
     "output_type": "stream",
     "text": [
      "Data : science\n",
      "Deep : Learning\n",
      "Graph : Algorithms\n",
      "None\n"
     ]
    }
   ],
   "source": [
    "def key_args(**kwargs):\n",
    "    \n",
    "    for key, value in kwargs.items():\n",
    "        print(\"%s : %s\" % (key, value))\n",
    "\n",
    "print(key_args(Data='science',Deep='Learning',Graph='Algorithms'))\n"
   ]
  },
  {
   "attachments": {},
   "cell_type": "markdown",
   "metadata": {},
   "source": [
    "##### Q3.  What is an iterator in python? Name the method used to initialise the iterator object and the method used for iteration. Use these methods to print the first five elemnts of the given list[2,4,6,8,10,12,14,16,18,20]\n",
    "\n",
    "* Iterators are python objects that can be iterated upon, it has countable number of values that programmer can traverse through. They all have __iter__() and __next__() methods.\n",
    "\n",
    "* __iter__() method is used to initialize and iterator.\n",
    "* __next__() method is used to call the next item in the iterator.\n"
   ]
  },
  {
   "cell_type": "code",
   "execution_count": 6,
   "metadata": {},
   "outputs": [
    {
     "name": "stdout",
     "output_type": "stream",
     "text": [
      "2\n",
      "4\n",
      "6\n",
      "8\n",
      "10\n"
     ]
    }
   ],
   "source": [
    "lst = [2,4,6,8,10,12,14,16,18,20]\n",
    "\n",
    "# Initializing the iterator\n",
    "iterator = iter(lst)\n",
    "\n",
    "# Printing the next 5 elements\n",
    "print(next(iterator))\n",
    "print(next(iterator))\n",
    "print(next(iterator))\n",
    "print(next(iterator))\n",
    "print(next(iterator))"
   ]
  },
  {
   "attachments": {},
   "cell_type": "markdown",
   "metadata": {},
   "source": [
    "##### Q4.  What is a generator function in python? Why yield keyword is used? Give an example of a generator function.\n",
    "\n",
    "* Generator functions creates an iterator that returns the sequence of values when iterated over. Generator functions when called upon doesn't execute the function body immediately, rather it generates an iterator and return next value from the iterator upon each successful call.\n",
    "\n",
    "* Generator functions are similar to normal functions synctatically with only one difference they have yield intead of return keyword.\n",
    "\n",
    "* Yield keyword is used to produce value from the iterator and return it, further it then saves the state of the call and retruns next value when called in next succession. \n",
    "\n"
   ]
  },
  {
   "cell_type": "code",
   "execution_count": 9,
   "metadata": {},
   "outputs": [
    {
     "name": "stdout",
     "output_type": "stream",
     "text": [
      "1\n",
      "2\n",
      "3\n",
      "4\n",
      "5\n"
     ]
    },
    {
     "ename": "StopIteration",
     "evalue": "",
     "output_type": "error",
     "traceback": [
      "\u001b[1;31m---------------------------------------------------------------------------\u001b[0m",
      "\u001b[1;31mStopIteration\u001b[0m                             Traceback (most recent call last)",
      "\u001b[1;32md:\\DS&Algo\\PWSILLS\\Data_Science_Masters\\Day007\\code.ipynb Cell 9\u001b[0m in \u001b[0;36m<cell line: 16>\u001b[1;34m()\u001b[0m\n\u001b[0;32m     <a href='vscode-notebook-cell:/d%3A/DS%26Algo/PWSILLS/Data_Science_Masters/Day007/code.ipynb#X10sZmlsZQ%3D%3D?line=13'>14</a>\u001b[0m \u001b[39mprint\u001b[39m(\u001b[39mnext\u001b[39m(iterator))\n\u001b[0;32m     <a href='vscode-notebook-cell:/d%3A/DS%26Algo/PWSILLS/Data_Science_Masters/Day007/code.ipynb#X10sZmlsZQ%3D%3D?line=14'>15</a>\u001b[0m \u001b[39mprint\u001b[39m(\u001b[39mnext\u001b[39m(iterator))\n\u001b[1;32m---> <a href='vscode-notebook-cell:/d%3A/DS%26Algo/PWSILLS/Data_Science_Masters/Day007/code.ipynb#X10sZmlsZQ%3D%3D?line=15'>16</a>\u001b[0m \u001b[39mprint\u001b[39m(\u001b[39mnext\u001b[39;49m(iterator))\n",
      "\u001b[1;31mStopIteration\u001b[0m: "
     ]
    }
   ],
   "source": [
    "def give_n_values(n):\n",
    "    count = 1\n",
    "    while(count <= n):\n",
    "        yield count\n",
    "        count +=1\n",
    "\n",
    "\n",
    "\n",
    "iterator = give_n_values(5)\n",
    "\n",
    "# Call iterator for 5  times\n",
    "print(next(iterator))\n",
    "print(next(iterator))\n",
    "print(next(iterator))\n",
    "print(next(iterator))\n",
    "print(next(iterator))\n",
    "# Gives Stop Iteration Exception if next on iterator is called and iterator has no values.\n",
    "print(next(iterator))"
   ]
  },
  {
   "attachments": {},
   "cell_type": "markdown",
   "metadata": {},
   "source": [
    "##### Q5. Create a generator function for prime numbers less than 1000. Use the next() method to print the first 20 prime numbers."
   ]
  },
  {
   "cell_type": "code",
   "execution_count": 15,
   "metadata": {},
   "outputs": [
    {
     "name": "stdout",
     "output_type": "stream",
     "text": [
      "2\n",
      "3\n",
      "5\n",
      "7\n",
      "11\n",
      "13\n",
      "17\n",
      "19\n",
      "23\n",
      "29\n",
      "31\n",
      "37\n",
      "41\n",
      "43\n",
      "47\n",
      "53\n",
      "59\n",
      "61\n",
      "67\n",
      "71\n",
      "73\n"
     ]
    }
   ],
   "source": [
    "def prime_generator():\n",
    "    \n",
    "    Sieve_D = {}\n",
    "    \n",
    "    current = 2\n",
    "    while (current < 1000):\n",
    "        while True:\n",
    "            if current not in Sieve_D:\n",
    "                \n",
    "                yield current\n",
    "                Sieve_D[current * current] = [current]\n",
    "            else:\n",
    "                \n",
    "                for check in Sieve_D[current]:\n",
    "                    Sieve_D.setdefault(check + current, []).append(check)\n",
    "                del Sieve_D[current]\n",
    "            \n",
    "            current += 1\n",
    "\n",
    "iterator = prime_generator()\n",
    "\n",
    "for _ in range(21):\n",
    "    print(next(iterator))"
   ]
  },
  {
   "cell_type": "code",
   "execution_count": null,
   "metadata": {},
   "outputs": [],
   "source": []
  }
 ],
 "metadata": {
  "kernelspec": {
   "display_name": "TorchEnv",
   "language": "python",
   "name": "python3"
  },
  "language_info": {
   "codemirror_mode": {
    "name": "ipython",
    "version": 3
   },
   "file_extension": ".py",
   "mimetype": "text/x-python",
   "name": "python",
   "nbconvert_exporter": "python",
   "pygments_lexer": "ipython3",
   "version": "3.9.12"
  },
  "orig_nbformat": 4,
  "vscode": {
   "interpreter": {
    "hash": "5190a61440cec77bceec7b8ea3530ec7ef9f651661115b61fd21260409f55629"
   }
  }
 },
 "nbformat": 4,
 "nbformat_minor": 2
}
