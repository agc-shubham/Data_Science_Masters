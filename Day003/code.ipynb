{
 "cells": [
  {
   "cell_type": "code",
   "execution_count": 2,
   "metadata": {},
   "outputs": [
    {
     "name": "stdout",
     "output_type": "stream",
     "text": [
      "90\n"
     ]
    }
   ],
   "source": [
    "grade = int(input(\"Enter the Percentage of student: \"))\n",
    "\n",
    "print(grade)\n",
    "\n",
    "if grade > 90:\n",
    "    print(\"Grade: A\")\n",
    "elif grade > 80 and grade <= 90:\n",
    "    print(\"Grade: B\")\n",
    "elif grade >= 60 and grade <= 80:\n",
    "    print(\"Grade: C\")\n",
    "else:\n",
    "    print(\"Grade: D\")"
   ]
  },
  {
   "cell_type": "code",
   "execution_count": 1,
   "metadata": {},
   "outputs": [
    {
     "name": "stdout",
     "output_type": "stream",
     "text": [
      "Your tax is 5%\n"
     ]
    }
   ],
   "source": [
    "cp = int(input(\"Enter the Cost Price of the bike: \"))\n",
    "\n",
    "if cp > 100000:\n",
    "    print(\"Your tax is 15%\")\n",
    "elif cp >50000 and cp <= 100000:\n",
    "    print(\"Your tax is 10%\")\n",
    "elif cp <= 50000:\n",
    "    print(\"Your tax is 5%\")"
   ]
  },
  {
   "cell_type": "code",
   "execution_count": 3,
   "metadata": {},
   "outputs": [
    {
     "name": "stdout",
     "output_type": "stream",
     "text": [
      "Red Fort\n"
     ]
    }
   ],
   "source": [
    "city = input(\"Enter the name if the city\")\n",
    "\n",
    "def city_to_monument(argument):\n",
    "    switch = {\n",
    "        \"Delhi\": \"Red Fort\",\n",
    "        \"Agra\": \"Taj Mahal\",\n",
    "        \"Jaipur\": \"Jai Mahal\",\n",
    "    }\n",
    " \n",
    "    # get() method of dictionary data type returns\n",
    "    # value of passed argument if it is present\n",
    "    # in dictionary otherwise second argument will\n",
    "    # be assigned as default value of passed argument\n",
    "    return switch.get(argument, \"no such mapping available\")\n",
    "\n",
    "print(city_to_monument(city))"
   ]
  },
  {
   "cell_type": "code",
   "execution_count": 6,
   "metadata": {},
   "outputs": [
    {
     "name": "stdout",
     "output_type": "stream",
     "text": [
      "2\n"
     ]
    }
   ],
   "source": [
    "num = int(input(\"Enter the number to be divided by 3\"))\n",
    "\n",
    "count = 0\n",
    "while(num >= 10):\n",
    "    num = num / 3\n",
    "    count += 1\n",
    "\n",
    "print(count)\n",
    "\n",
    "\n"
   ]
  },
  {
   "attachments": {},
   "cell_type": "markdown",
   "metadata": {},
   "source": [
    "* While loops are used when the programmer doesn't know when to break out of the loop. And the loops breaks based on certain condition to be true.\n",
    "\n",
    "ex.\n",
    "\n",
    "`num = 1000\n",
    "while(num > 0):\n",
    "    num /= 2\n",
    "`\n"
   ]
  },
  {
   "cell_type": "code",
   "execution_count": 16,
   "metadata": {},
   "outputs": [
    {
     "name": "stdout",
     "output_type": "stream",
     "text": [
      "* \n",
      "* * \n",
      "* * * \n",
      "* * * * \n",
      "* * * * * \n"
     ]
    }
   ],
   "source": [
    "\n",
    "# input\n",
    "n=5\n",
    "\n",
    "i=1;j=0\n",
    "\n",
    "while(i<=n):\n",
    "\twhile(j<=i-1):\n",
    "\t\tprint(\"* \",end=\"\")\n",
    "\t\tj+=1\n",
    "\tprint(\"\\r\")\n",
    "\tj=0;i+=1\n",
    "\n"
   ]
  },
  {
   "cell_type": "code",
   "execution_count": 27,
   "metadata": {},
   "outputs": [
    {
     "name": "stdout",
     "output_type": "stream",
     "text": [
      "         *  \n",
      "       *   *  \n",
      "     *   *   *  \n",
      "   *   *   *   *  \n",
      " *   *   *   *   *  \n"
     ]
    }
   ],
   "source": [
    "# input\n",
    "n=5\n",
    "\n",
    "i=1\n",
    "rows = n\n",
    "while(i<=n):\n",
    "\tj = n\n",
    "\t\n",
    "\twhile(j>0):\n",
    "\t\t\n",
    "\t\tif j > i:\n",
    "\t\t\tprint(\" \",end=' ')\n",
    "\t\telse:\n",
    "\t\t\tprint(\" * \", end = ' ')\n",
    "\t\tj-=1\n",
    "\t\t\n",
    "\tprint(\"\\r\")\n",
    "\ti+=1\n",
    "\t\n"
   ]
  },
  {
   "cell_type": "code",
   "execution_count": 11,
   "metadata": {},
   "outputs": [
    {
     "name": "stdout",
     "output_type": "stream",
     "text": [
      "* * * * * \n",
      "* * * * \n",
      "* * * \n",
      "* * \n",
      "* \n"
     ]
    }
   ],
   "source": [
    "n = 5\n",
    "i = 1\n",
    "while i <= n :\n",
    "    j = n\n",
    "    while j >= i:\n",
    "        print(\"*\", end = \" \")\n",
    "        j -= 1\n",
    "    print()\n",
    "    i += 1"
   ]
  },
  {
   "cell_type": "code",
   "execution_count": 19,
   "metadata": {},
   "outputs": [
    {
     "name": "stdout",
     "output_type": "stream",
     "text": [
      "           *  \n",
      "         *   *  \n",
      "       *   *   *  \n",
      "     *   *   *   *  \n",
      "   *   *   *   *   *  \n"
     ]
    }
   ],
   "source": [
    "rows = 6\n",
    "for i in range(1, rows):\n",
    "    \n",
    "    for j in range(rows, 0, -1):\n",
    "        if j > i:\n",
    "            print(\" \", end=' ')\n",
    "        else:\n",
    "            print(\" * \", end=' ')\n",
    "            \n",
    "    print(\"\")"
   ]
  },
  {
   "cell_type": "code",
   "execution_count": 9,
   "metadata": {},
   "outputs": [
    {
     "name": "stdout",
     "output_type": "stream",
     "text": [
      "10\n",
      "9\n",
      "8\n",
      "7\n",
      "6\n",
      "5\n",
      "4\n",
      "3\n",
      "2\n",
      "1\n"
     ]
    }
   ],
   "source": [
    "#input\n",
    "num = 10\n",
    "\n",
    "while num > 0:\n",
    "    print(num)\n",
    "    num -=1"
   ]
  },
  {
   "cell_type": "code",
   "execution_count": null,
   "metadata": {},
   "outputs": [],
   "source": []
  }
 ],
 "metadata": {
  "kernelspec": {
   "display_name": "Python 3",
   "language": "python",
   "name": "python3"
  },
  "language_info": {
   "codemirror_mode": {
    "name": "ipython",
    "version": 3
   },
   "file_extension": ".py",
   "mimetype": "text/x-python",
   "name": "python",
   "nbconvert_exporter": "python",
   "pygments_lexer": "ipython3",
   "version": "3.9.12"
  },
  "orig_nbformat": 4,
  "vscode": {
   "interpreter": {
    "hash": "30b3863671c7fe20f3cc201da7f329ef4412168594474adc6d5055cc30560099"
   }
  }
 },
 "nbformat": 4,
 "nbformat_minor": 2
}
