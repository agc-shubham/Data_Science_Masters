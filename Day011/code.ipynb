{
 "cells": [
  {
   "attachments": {},
   "cell_type": "markdown",
   "metadata": {},
   "source": [
    "Q1. You are writing code for a company. The requirement of the company is that you create a python function that will check whether the password entered by the user is correct or not. The function should take the password as input and return the string “Valid Password” if the entered password follows the below-given password guidelines else it should return “Invalid Password”.  \n",
    "\n",
    "Note: \n",
    "1. The Password should contain at least two uppercase letters and at least two lowercase letters. \n",
    "2. The Password should contain at least a number and three special characters. \n",
    "3. The length of the password should be 10 characters long.\n",
    "\n",
    "Q2. Solve the below-given questions using at least one of the following: \n",
    "\n",
    "1. Lambda function \n",
    "2. Filter function \n",
    "3. Map function \n",
    "4. List Comprehension\n",
    "\n",
    "* Check if the string starts with a particular letter.\n",
    "* Check if the string is numeric.\n",
    "* Sort a list of tuples having fruit names and their quantity. [(\"mango\",99),(\"orange\",80), (\"grapes\", 1000)\n",
    "* Find the squares of numbers from 1 to 10.\n",
    "* Find the cube root of numbers from 1 to 10.\n",
    "* Check if a given number is even.\n",
    "* Filter odd numbers from the given list.        [1,2,3,4,5,6,7,8,9,10].\n",
    "* Sort a list of integers into positive and negative integers lists.       [1,2,3,4,5,6,-1,-2,-3,-4,-5,0]\n",
    "\n",
    "Note: Create your assignment in Jupyter notebook and upload it to GitHub & share that GitHub repository link through your dashboard.\n"
   ]
  },
  {
   "cell_type": "code",
   "execution_count": 3,
   "metadata": {},
   "outputs": [
    {
     "name": "stdout",
     "output_type": "stream",
     "text": [
      "Valid Password\n",
      "Valid Password\n",
      "Invalid Password\n",
      "Invalid Password\n",
      "Valid Password\n"
     ]
    }
   ],
   "source": [
    "# Soln 1\n",
    "\n",
    "password = input(\"Enter your password\")\n",
    "\n",
    "def pass_check(password : str) -> str:\n",
    "\n",
    "    symbols = ['$', '@', '#', '%']\n",
    "\n",
    "    \n",
    "    uppr = len([i for i in password if i.isupper()])\n",
    "    lowr = len([i for i in password if i.islower()])\n",
    "    num = len([i for i in password if i.isdigit()])\n",
    "    sym = len([i for i in password if i in symbols])\n",
    "\n",
    "    if uppr < 2 or lowr < 2 or num < 1 or sym <3 or len(password) != 10:\n",
    "        return \"Invalid Password\"\n",
    "    else:\n",
    "        return \"Valid Password\"\n",
    "    \n",
    "print(pass_check(password=password))\n",
    "print(pass_check(\"SHub1@#$pp\"))\n",
    "print(pass_check(\"Shubham\"))\n",
    "print(pass_check(\"Minions@2015\"))\n",
    "print(pass_check(\"QWer7@#$ty\"))"
   ]
  },
  {
   "cell_type": "code",
   "execution_count": 6,
   "metadata": {},
   "outputs": [
    {
     "name": "stdout",
     "output_type": "stream",
     "text": [
      "[True, False, False, False, True]\n"
     ]
    }
   ],
   "source": [
    "# Soln 2\n",
    "\n",
    "## Check if the string starts with a particular letter.\n",
    "lst = ['apple', 'banana', 'cherry', 'diamond', 'aloo']\n",
    "\n",
    "result = list(map(lambda x: x[0]=='a',lst))\n",
    "\n",
    "print(result)\n",
    "\n"
   ]
  },
  {
   "cell_type": "code",
   "execution_count": 3,
   "metadata": {},
   "outputs": [
    {
     "name": "stdout",
     "output_type": "stream",
     "text": [
      "['1', '2', '3']\n",
      "Numeric\n"
     ]
    }
   ],
   "source": [
    "## Check if the string is numeric.\n",
    "\n",
    "string = \"123poc\"\n",
    "\n",
    "result = list(filter(lambda x: x if x.isdigit() else None, string ))\n",
    "\n",
    "print(result)\n",
    "\n",
    "if(len(result)>1):\n",
    "    print(\"Numeric\")\n",
    "else:\n",
    "    print(\"Non Numeric\")"
   ]
  },
  {
   "cell_type": "code",
   "execution_count": 7,
   "metadata": {},
   "outputs": [
    {
     "name": "stdout",
     "output_type": "stream",
     "text": [
      "[('grapes', 1000), ('mango', 99), ('orange', 80)]\n"
     ]
    }
   ],
   "source": [
    "# * Sort a list of tuples having fruit names and their quantity. [(\"mango\",99),(\"orange\",80), (\"grapes\", 1000)\n",
    "\n",
    "fruit_list = [(\"mango\",99),(\"orange\",80), (\"grapes\", 1000)]\n",
    "\n",
    "fruit_list.sort(reverse = True, key=lambda tup:tup[1])\n",
    "\n",
    "print(fruit_list)"
   ]
  },
  {
   "cell_type": "code",
   "execution_count": 8,
   "metadata": {},
   "outputs": [
    {
     "name": "stdout",
     "output_type": "stream",
     "text": [
      "[1, 4, 9, 16, 25, 36, 49, 64, 81, 100]\n",
      "[1, 8, 27, 64, 125, 216, 343, 512, 729, 1000]\n"
     ]
    }
   ],
   "source": [
    "# * Find the squares of numbers from 1 to 10.\n",
    "\n",
    "squares = [i*i for i in range(1,11)]\n",
    "\n",
    "# * Find the cube root of numbers from 1 to 10.\n",
    "\n",
    "cubes = [pow(i,3) for i in range(1,11)]\n",
    "\n",
    "print(squares)\n",
    "print(cubes)\n"
   ]
  },
  {
   "cell_type": "code",
   "execution_count": 10,
   "metadata": {},
   "outputs": [
    {
     "name": "stdout",
     "output_type": "stream",
     "text": [
      "True\n",
      "False\n"
     ]
    }
   ],
   "source": [
    "# * Check if a given number is even.\n",
    "\n",
    "is_even = lambda x: x%2 ==0\n",
    "\n",
    "print(is_even(2))\n",
    "print(is_even(3))"
   ]
  },
  {
   "cell_type": "code",
   "execution_count": 13,
   "metadata": {},
   "outputs": [
    {
     "name": "stdout",
     "output_type": "stream",
     "text": [
      "[1, 3, 5, 7, 9]\n"
     ]
    }
   ],
   "source": [
    "# * Filter odd numbers from the given list.        [1,2,3,4,5,6,7,8,9,10].\n",
    "\n",
    "num_list = [1,2,3,4,5,6,7,8,9,10]\n",
    "\n",
    "odd_list = list(filter(lambda x:x%2!=0,num_list))\n",
    "print(odd_list)"
   ]
  },
  {
   "cell_type": "code",
   "execution_count": 18,
   "metadata": {},
   "outputs": [
    {
     "name": "stdout",
     "output_type": "stream",
     "text": [
      "[0, 1, 2, 3, 4, 5, 6]\n",
      "[-5, -4, -3, -2, -1]\n"
     ]
    }
   ],
   "source": [
    "# * Sort a list of integers into positive and negative integers lists.       [1,2,3,4,5,6,-1,-2,-3,-4,-5,0]\n",
    "num_list = [1,2,3,4,5,6,-1,-2,-3,-4,-5,0]\n",
    "\n",
    "positive_list = list(filter(lambda x:x>=0,num_list))\n",
    "negative_list = list(filter(lambda x:x<0,num_list))\n",
    "positive_list.sort()\n",
    "negative_list.sort()\n",
    "print(positive_list)\n",
    "print(negative_list)"
   ]
  },
  {
   "cell_type": "code",
   "execution_count": null,
   "metadata": {},
   "outputs": [],
   "source": []
  }
 ],
 "metadata": {
  "kernelspec": {
   "display_name": "TorchEnv",
   "language": "python",
   "name": "python3"
  },
  "language_info": {
   "codemirror_mode": {
    "name": "ipython",
    "version": 3
   },
   "file_extension": ".py",
   "mimetype": "text/x-python",
   "name": "python",
   "nbconvert_exporter": "python",
   "pygments_lexer": "ipython3",
   "version": "3.9.12"
  },
  "orig_nbformat": 4,
  "vscode": {
   "interpreter": {
    "hash": "5190a61440cec77bceec7b8ea3530ec7ef9f651661115b61fd21260409f55629"
   }
  }
 },
 "nbformat": 4,
 "nbformat_minor": 2
}
