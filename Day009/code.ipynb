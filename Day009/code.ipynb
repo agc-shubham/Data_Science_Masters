{
 "cells": [
  {
   "attachments": {},
   "cell_type": "markdown",
   "metadata": {},
   "source": [
    "* Q1. Explain Class and Object with respect to Object-Oriented Programming. Give a suitable example.\n",
    "\n",
    "* Q2. Name the four pillars of OOPs.\n",
    "\n",
    "* Q3. Explain why the __init__() function is used. Give a suitable example.\n",
    "\n",
    "* Q4. Why self is used in OOPs?\n",
    "\n",
    "* Q5. What is inheritance? Give an example for each type of inheritance.\n",
    "\n",
    "Note: Create your assignment in Jupyter notebook and upload it to GitHub & share that GitHub repository   \n",
    "          link through your dashboard.\n"
   ]
  },
  {
   "attachments": {},
   "cell_type": "markdown",
   "metadata": {},
   "source": [
    "Q1. Explain Class and Object with respect to Object-Oriented Programming. Give a suitable example.\n",
    "\n",
    "Ans1. Class is a blue print used to create Objects at runtime with memory allocation in heap. It could be understood with this analogy, suppose in a society an architect has created blueprint for a duplex, using that blueprint constructor can construct as many duplexes he want that can be made in the space of society with access to space in 3 dimensions.\n",
    "\n",
    "We define classes that have some instance variables and methods defining what to do with those variables. Objects are created at runtime where memory is allocated for those variables and a pointer is being given to the reference object."
   ]
  },
  {
   "attachments": {},
   "cell_type": "markdown",
   "metadata": {},
   "source": [
    "Q2. Name the four pillars of OOPs.\n",
    "\n",
    "Ans2. Four pillars of OOPs:\n",
    "\n",
    "1. Inheritance\n",
    "2. Abstraction\n",
    "3. Polymorphism\n",
    "4. Encapsulation\n",
    "\n",
    "* Inheritance - Inheritance allows classes to inherit data member and methods from another class. The class from which all the inheritance happens is called parent class or base class and the class inheriting is called child class.\n",
    "\n",
    "* Abstraction - The Programmer need not handle all the complexity of implementation of different set of methods. Rather apis are provided to call the methods where they do a specific job. Only the call signature and return types are to be handled by programmer. API takes care of the implementation.\n",
    "\n",
    "* Polymorphism -  Literal meaning of polymorphism is many forms, when a piece of code can be used in multiple ways. An example of this is method overloading.\n",
    "\n",
    "* Encapsulation - When a set of funcationalities which are common in nature are bundled together and given to programmer for use. This process of bundling together functionalites is known as encapsulation."
   ]
  },
  {
   "attachments": {},
   "cell_type": "markdown",
   "metadata": {},
   "source": [
    "Q3. Explain why the __init__() function is used. Give a suitable example.\n",
    "\n",
    "* __init__() function is called as constructor, Constructor is by default generated whenever we write a class. It is used to return the object when an object is created at runtime from the class. It is also used to pass on arguments to the class to populate the instance variables inside class.\n",
    "\n",
    "example - below\n",
    "\n"
   ]
  },
  {
   "cell_type": "code",
   "execution_count": 4,
   "metadata": {},
   "outputs": [
    {
     "name": "stdout",
     "output_type": "stream",
     "text": [
      "Cat\n"
     ]
    }
   ],
   "source": [
    "class Animal():\n",
    "\n",
    "    def __init__(self,species) -> None:\n",
    "        self.species = species\n",
    "\n",
    "    def returnSpecies(self) -> str:\n",
    "\n",
    "        return self.species\n",
    "\n",
    "\n",
    "cat = Animal(\"Cat\")\n",
    "print(cat.returnSpecies())"
   ]
  },
  {
   "attachments": {},
   "cell_type": "markdown",
   "metadata": {},
   "source": [
    "Q4. Why self is used in OOPs?\n",
    "\n",
    "* Self used in python (this in java,C# etc) is used to refer the current object intantiated from the class. It is used to refer to the instance variables of the class."
   ]
  },
  {
   "attachments": {},
   "cell_type": "markdown",
   "metadata": {},
   "source": [
    "Q5. What is inheritance? Give an example for each type of inheritance.\n",
    "\n",
    "* Inheritance allows classes to inherit data member and methods from another class. \n",
    "\n",
    "Parent class is the class being inherited from, also called base class.\n",
    "\n",
    "Child class is the class that inherits from another class, also called derived class.\n",
    "\n",
    "Python supports different type of inheritance:\n",
    "* Single inheritance\n",
    "* Multiple inheritance\n",
    "* Multilevel inheritance"
   ]
  },
  {
   "cell_type": "code",
   "execution_count": 2,
   "metadata": {},
   "outputs": [
    {
     "name": "stdout",
     "output_type": "stream",
     "text": [
      "calling from base class.\n",
      "calling from child class.\n"
     ]
    }
   ],
   "source": [
    "# single inheritance\n",
    " \n",
    "# Base class\n",
    "class Base:\n",
    "    def __init__(self) -> None:\n",
    "        pass\n",
    "\n",
    "    def func1(self):\n",
    "        print(\"calling from base class.\")\n",
    " \n",
    "# Child class\n",
    "class Derived(Base):\n",
    "    def __init__(self) -> None:\n",
    "        pass\n",
    "\n",
    "    def func2(self):\n",
    "        print(\"calling from child class.\")\n",
    " \n",
    " \n",
    "# Driver's code\n",
    "ob = Derived()\n",
    "ob.func1()\n",
    "ob.func2()"
   ]
  },
  {
   "cell_type": "code",
   "execution_count": 5,
   "metadata": {},
   "outputs": [
    {
     "name": "stdout",
     "output_type": "stream",
     "text": [
      "calling from base1 class.\n",
      "calling from base2 class.\n",
      "calling from child class.\n"
     ]
    }
   ],
   "source": [
    "# multiple inheritance\n",
    "# Base1 class\n",
    "class Base1:\n",
    "    def __init__(self) -> None:\n",
    "        pass\n",
    "\n",
    "    def func1(self):\n",
    "        print(\"calling from base1 class.\")\n",
    "\n",
    "# Base2 class\n",
    "class Base2:\n",
    "    def __init__(self) -> None:\n",
    "        pass\n",
    "\n",
    "    def func3(self):\n",
    "        print(\"calling from base2 class.\")\n",
    " \n",
    " \n",
    "# Child class\n",
    "class Derived(Base1,Base2):\n",
    "    def __init__(self) -> None:\n",
    "        pass\n",
    "\n",
    "    def func2(self):\n",
    "        print(\"calling from child class.\")\n",
    " \n",
    " \n",
    "# Driver's code\n",
    "ob = Derived()\n",
    "ob.func1()\n",
    "ob.func3()\n",
    "ob.func2()\n"
   ]
  },
  {
   "cell_type": "code",
   "execution_count": 6,
   "metadata": {},
   "outputs": [
    {
     "name": "stdout",
     "output_type": "stream",
     "text": [
      "calling from Grandfather class.\n",
      "calling from Father class.\n",
      "calling from child class.\n"
     ]
    }
   ],
   "source": [
    "# multi level inheritance\n",
    "# Base1 class\n",
    "class Grandfather():\n",
    "    def __init__(self) -> None:\n",
    "        pass\n",
    "\n",
    "    def func1(self):\n",
    "        print(\"calling from Grandfather class.\")\n",
    "\n",
    "# Base2 class\n",
    "class Father(Grandfather):\n",
    "    def __init__(self) -> None:\n",
    "        pass\n",
    "    \n",
    "\n",
    "    def func3(self):\n",
    "        print(\"calling from Father class.\")\n",
    " \n",
    " \n",
    "# Child class\n",
    "class Child(Father):\n",
    "    def __init__(self) -> None:\n",
    "        pass\n",
    "\n",
    "    def func2(self):\n",
    "        print(\"calling from child class.\")\n",
    " \n",
    " \n",
    "# Driver's code\n",
    "ob = Child()\n",
    "ob.func1()\n",
    "ob.func3()\n",
    "ob.func2()"
   ]
  },
  {
   "cell_type": "code",
   "execution_count": null,
   "metadata": {},
   "outputs": [],
   "source": []
  }
 ],
 "metadata": {
  "kernelspec": {
   "display_name": "TorchEnv",
   "language": "python",
   "name": "python3"
  },
  "language_info": {
   "codemirror_mode": {
    "name": "ipython",
    "version": 3
   },
   "file_extension": ".py",
   "mimetype": "text/x-python",
   "name": "python",
   "nbconvert_exporter": "python",
   "pygments_lexer": "ipython3",
   "version": "3.9.12"
  },
  "orig_nbformat": 4,
  "vscode": {
   "interpreter": {
    "hash": "5190a61440cec77bceec7b8ea3530ec7ef9f651661115b61fd21260409f55629"
   }
  }
 },
 "nbformat": 4,
 "nbformat_minor": 2
}
