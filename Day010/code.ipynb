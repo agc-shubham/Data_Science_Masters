{
 "cells": [
  {
   "attachments": {},
   "cell_type": "markdown",
   "metadata": {},
   "source": [
    "Q1. Create a function which will take a list as an argument and return the product of all the numbers after creating a flat list. Use the below-given list as an argument for your function.  \n",
    "\n",
    "list1 = [1,2,3,4, [44,55,66, True], False, (34,56,78,89,34), {1,2,3,3,2,1}, {1:34, \"key2\": [55, 67, 78, 89], 4: (45, 22, 61, 34)}, [56, 'data science'], 'Machine Learning']  \n",
    "Note: you must extract numeric keys and values of the dictionary also.\n",
    "\n",
    "Q2. Write a python program for encrypting a message sent to you by your friend. The logic of encryption should be such that, for a the output should be z. For b, the output should be y. For c, the output should be x respectively. Also, the whitespace should be replaced with a dollar sign. Keep the punctuation marks unchanged.  \n",
    "\n",
    "Input Sentence: I want to become a Data Scientist.  \n",
    "Encrypt the above input sentence using the program you just created.  \n",
    "\n",
    "Note: Convert the given input sentence into lowercase before encrypting. The final output should be lowercase.\n",
    "Note: Create your assignment in Jupyter notebook and upload it to GitHub & share that GitHub repository   \n",
    "          link through your dashboard.\n"
   ]
  },
  {
   "cell_type": "code",
   "execution_count": 4,
   "metadata": {},
   "outputs": [
    {
     "name": "stdout",
     "output_type": "stream",
     "text": [
      "<class 'dict'>\n",
      "4134711838987085478833841242112000\n"
     ]
    }
   ],
   "source": [
    "# Solution 1\n",
    "from functools import reduce\n",
    "\n",
    "list1 = [1,2,3,4, [44,55,66, True], False, (34,56,78,89,34), {1,2,3,3,2,1}, {1:34, \"key2\": [55, 67, 78, 89], 4: (45, 22, 61, 34)}, [56, 'data science'], 'Machine Learning'] \n",
    "\n",
    "# Initial Flat list\n",
    "prod_list = []\n",
    "\n",
    "def listFlattener(lst):\n",
    "\n",
    "    for ele in lst:\n",
    "        # adding ints\n",
    "        if type(ele) == int:\n",
    "            prod_list.append(ele)\n",
    "\n",
    "        #Adding ints from list, tuple and sets\n",
    "        elif type(ele) == list or type(ele) == tuple or type(ele) == set:\n",
    "            \n",
    "            for insideele in ele:\n",
    "                if type(insideele) == int:\n",
    "                    prod_list.append(insideele)\n",
    "\n",
    "        # Adding ints from dictionary including ints in keys and values\n",
    "        elif type(ele) == dict:\n",
    "            print(type(ele))\n",
    "            for key, value in ele.items():\n",
    "                # Adding keys\n",
    "                # Since keys can be only immutable elements\n",
    "                if type(key) == int:\n",
    "                    prod_list.append(key)\n",
    "                if type(key) == set:\n",
    "                    for insidekey in key:\n",
    "                        if type(insidekey) == int:\n",
    "                            prod_list.append(insidekey)\n",
    "\n",
    "                # Adding value elemnts\n",
    "                if type(value) == int:\n",
    "                    prod_list.append(value)\n",
    "                if type(value) == list or type(value) == tuple or type(value) == set:\n",
    "                    for insideval in value:\n",
    "                        if type(insideval) == int:\n",
    "                            prod_list.append(insideval)  \n",
    "\n",
    "listFlattener(list1)\n",
    "\n",
    "# Output product\n",
    "print(reduce(lambda a,b: a*b,prod_list))"
   ]
  },
  {
   "cell_type": "code",
   "execution_count": 31,
   "metadata": {},
   "outputs": [
    {
     "name": "stdout",
     "output_type": "stream",
     "text": [
      "r$dzmg$gl$yvxlnv$z$wzgz$hxrvmgrhg.\n"
     ]
    }
   ],
   "source": [
    "# Solution 2\n",
    "input_str = \"I want to become a Data Scientist.\"\n",
    "\n",
    "mapping = {'a':'z',\n",
    "           'b':'y',\n",
    "           'c':'x',\n",
    "           'd':'w',\n",
    "           'e':'v',\n",
    "           'f':'u',\n",
    "           'g':'t',\n",
    "           'h':'s',\n",
    "           'i':'r',\n",
    "           'j':'q',\n",
    "           'k':'p',\n",
    "           'l':'o',\n",
    "           'm':'n',\n",
    "           'n':'m',\n",
    "           'o':'l',\n",
    "           'p':'k',\n",
    "           'q':'j',\n",
    "           'r':'i',\n",
    "           's':'h',\n",
    "           't':'g',\n",
    "           'u':'f',\n",
    "           'v':'e',\n",
    "           'w':'d',\n",
    "           'x':'c',\n",
    "           'y':'b',\n",
    "           'z':'a',\n",
    "           ' ':'$',\n",
    "           '.':'.'}\n",
    "\n",
    "encrypted_msg = []\n",
    "def encrypter(msg):\n",
    "    for i in msg:\n",
    "        \n",
    "        encrypted_msg.append(mapping[i])\n",
    "\n",
    "encrypter(input_str.lower())\n",
    "print(''.join(encrypted_msg))"
   ]
  },
  {
   "cell_type": "code",
   "execution_count": null,
   "metadata": {},
   "outputs": [],
   "source": []
  }
 ],
 "metadata": {
  "kernelspec": {
   "display_name": "TorchEnv",
   "language": "python",
   "name": "python3"
  },
  "language_info": {
   "codemirror_mode": {
    "name": "ipython",
    "version": 3
   },
   "file_extension": ".py",
   "mimetype": "text/x-python",
   "name": "python",
   "nbconvert_exporter": "python",
   "pygments_lexer": "ipython3",
   "version": "3.9.12"
  },
  "orig_nbformat": 4,
  "vscode": {
   "interpreter": {
    "hash": "5190a61440cec77bceec7b8ea3530ec7ef9f651661115b61fd21260409f55629"
   }
  }
 },
 "nbformat": 4,
 "nbformat_minor": 2
}
